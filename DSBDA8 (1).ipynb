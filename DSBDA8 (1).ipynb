{
  "cells": [
    {
      "cell_type": "code",
      "execution_count": null,
      "id": "cc67868a-f75d-4823-9ad2-4e1da0c7f78a",
      "metadata": {
        "id": "cc67868a-f75d-4823-9ad2-4e1da0c7f78a"
      },
      "outputs": [],
      "source": [
        "import nltk\n",
        "from nltk.corpus import stopwords\n",
        "from nltk.tokenize import word_tokenize\n",
        "from nltk.stem import PorterStemmer, WordNetLemmatizer\n",
        "from nltk import pos_tag\n",
        "from sklearn.feature_extraction.text import TfidfVectorizer"
      ]
    },
    {
      "cell_type": "code",
      "execution_count": null,
      "id": "8672cb7f-2c70-4b92-bfb3-bc233c87cf37",
      "metadata": {
        "id": "8672cb7f-2c70-4b92-bfb3-bc233c87cf37"
      },
      "outputs": [],
      "source": [
        "document = \"\"\"\n",
        "Natural language processing (NLP) is a subfield of linguistics, computer science, and artificial intelligence concerned with the interactions between computers and human language, in particular how to program computers to process and analyze large amounts of natural language data.\n",
        "\"\"\""
      ]
    },
    {
      "cell_type": "code",
      "execution_count": null,
      "id": "2f3fa37f-65b5-4499-a49b-65800349e4dd",
      "metadata": {
        "id": "2f3fa37f-65b5-4499-a49b-65800349e4dd"
      },
      "outputs": [],
      "source": [
        "tokens = word_tokenize(document)"
      ]
    },
    {
      "cell_type": "code",
      "execution_count": null,
      "id": "6c198756-3555-45c8-8c7a-b43921fd8f8a",
      "metadata": {
        "id": "6c198756-3555-45c8-8c7a-b43921fd8f8a"
      },
      "outputs": [],
      "source": [
        "pos_tags = pos_tag(tokens)"
      ]
    },
    {
      "cell_type": "code",
      "execution_count": null,
      "id": "1a2d7ff7-71f7-440f-bb01-0d05e045a2a4",
      "metadata": {
        "id": "1a2d7ff7-71f7-440f-bb01-0d05e045a2a4"
      },
      "outputs": [],
      "source": [
        "stop_words = set(stopwords.words('english'))\n",
        "filtered_tokens = [word for word in tokens if word.lower() not in stop_words]"
      ]
    },
    {
      "cell_type": "code",
      "execution_count": null,
      "id": "9b17c15f-b7ae-42a4-be8d-c933a6f6a7e7",
      "metadata": {
        "id": "9b17c15f-b7ae-42a4-be8d-c933a6f6a7e7",
        "outputId": "7ef71676-22f9-435b-fd44-7c2f056840aa"
      },
      "outputs": [
        {
          "name": "stdout",
          "output_type": "stream",
          "text": [
            "natur\n",
            "languag\n",
            "process\n",
            "(\n",
            "nlp\n",
            ")\n",
            "subfield\n",
            "linguist\n",
            ",\n",
            "comput\n",
            "scienc\n",
            ",\n",
            "artifici\n",
            "intellig\n",
            "concern\n",
            "interact\n",
            "comput\n",
            "human\n",
            "languag\n",
            ",\n",
            "particular\n",
            "program\n",
            "comput\n",
            "process\n",
            "analyz\n",
            "larg\n",
            "amount\n",
            "natur\n",
            "languag\n",
            "data\n",
            ".\n"
          ]
        }
      ],
      "source": [
        "stemmer = PorterStemmer()\n",
        "stemmed_tokens = [stemmer.stem(word) for word in filtered_tokens]\n",
        "for token in stemmed_tokens:\n",
        "    print(token)"
      ]
    },
    {
      "cell_type": "code",
      "execution_count": null,
      "id": "c26fe0c5-aeff-4757-bedf-345983223dbc",
      "metadata": {
        "id": "c26fe0c5-aeff-4757-bedf-345983223dbc",
        "outputId": "f00e5605-7724-4fab-d3f7-ecda1f4f8c6e"
      },
      "outputs": [
        {
          "name": "stdout",
          "output_type": "stream",
          "text": [
            "Natural\n",
            "language\n",
            "processing\n",
            "(\n",
            "NLP\n",
            ")\n",
            "subfield\n",
            "linguistics\n",
            ",\n",
            "computer\n",
            "science\n",
            ",\n",
            "artificial\n",
            "intelligence\n",
            "concerned\n",
            "interaction\n",
            "computer\n",
            "human\n",
            "language\n",
            ",\n",
            "particular\n",
            "program\n",
            "computer\n",
            "process\n",
            "analyze\n",
            "large\n",
            "amount\n",
            "natural\n",
            "language\n",
            "data\n",
            ".\n"
          ]
        }
      ],
      "source": [
        "lemmatizer = WordNetLemmatizer()\n",
        "lemmatized_tokens = [lemmatizer.lemmatize(word) for word in filtered_tokens]\n",
        "for token in lemmatized_tokens:\n",
        "    print(token)"
      ]
    },
    {
      "cell_type": "code",
      "execution_count": null,
      "id": "ea0e06d7-9f2b-4207-afe6-462da6231747",
      "metadata": {
        "id": "ea0e06d7-9f2b-4207-afe6-462da6231747"
      },
      "outputs": [],
      "source": [
        "processed_document = ' '.join(lemmatized_tokens)"
      ]
    },
    {
      "cell_type": "code",
      "execution_count": null,
      "id": "a6e39113-908f-404c-9413-948518482d6a",
      "metadata": {
        "id": "a6e39113-908f-404c-9413-948518482d6a"
      },
      "outputs": [],
      "source": [
        "tfidf_vectorizer = TfidfVectorizer()\n",
        "tfidf_matrix = tfidf_vectorizer.fit_transform([processed_document])\n",
        "feature_names = tfidf_vectorizer.get_feature_names_out()"
      ]
    },
    {
      "cell_type": "code",
      "execution_count": null,
      "id": "da7d23b3-6bb4-4ce5-8320-12ae30317f64",
      "metadata": {
        "id": "da7d23b3-6bb4-4ce5-8320-12ae30317f64",
        "outputId": "af3fd103-1516-4d53-9282-81bc8a3a041a"
      },
      "outputs": [
        {
          "name": "stdout",
          "output_type": "stream",
          "text": [
            "Original Document:\n",
            "\n",
            "Natural language processing (NLP) is a subfield of linguistics, computer science, and artificial intelligence concerned with the interactions between computers and human language, in particular how to program computers to process and analyze large amounts of natural language data.\n",
            "\n",
            "\n",
            "Processed Document:\n",
            "Natural language processing ( NLP ) subfield linguistics , computer science , artificial intelligence concerned interaction computer human language , particular program computer process analyze large amount natural language data .\n",
            "\n",
            "TF-IDF Representation:\n",
            "data: 0.16012815380508713\n",
            "amount: 0.16012815380508713\n",
            "large: 0.16012815380508713\n",
            "analyze: 0.16012815380508713\n",
            "process: 0.16012815380508713\n",
            "program: 0.16012815380508713\n",
            "particular: 0.16012815380508713\n",
            "human: 0.16012815380508713\n",
            "interaction: 0.16012815380508713\n",
            "concerned: 0.16012815380508713\n",
            "intelligence: 0.16012815380508713\n",
            "artificial: 0.16012815380508713\n",
            "science: 0.16012815380508713\n",
            "computer: 0.48038446141526137\n",
            "linguistics: 0.16012815380508713\n",
            "subfield: 0.16012815380508713\n",
            "nlp: 0.16012815380508713\n",
            "processing: 0.16012815380508713\n",
            "language: 0.48038446141526137\n",
            "natural: 0.32025630761017426\n"
          ]
        }
      ],
      "source": [
        "print(\"Original Document:\")\n",
        "print(document)\n",
        "print(\"\\nProcessed Document:\")\n",
        "print(processed_document)\n",
        "print(\"\\nTF-IDF Representation:\")\n",
        "for col in tfidf_matrix.nonzero()[1]:\n",
        "    print(f\"{feature_names[col]}: {tfidf_matrix[0, col]}\")"
      ]
    }
  ],
  "metadata": {
    "kernelspec": {
      "display_name": "Python 3 (ipykernel)",
      "language": "python",
      "name": "python3"
    },
    "language_info": {
      "codemirror_mode": {
        "name": "ipython",
        "version": 3
      },
      "file_extension": ".py",
      "mimetype": "text/x-python",
      "name": "python",
      "nbconvert_exporter": "python",
      "pygments_lexer": "ipython3",
      "version": "3.12.1"
    },
    "colab": {
      "provenance": []
    }
  },
  "nbformat": 4,
  "nbformat_minor": 5
}